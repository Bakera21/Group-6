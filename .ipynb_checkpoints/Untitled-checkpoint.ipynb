{
 "cells": [
  {
   "cell_type": "code",
   "execution_count": 67,
   "id": "5b840fcd-a680-4fdf-9724-cf03c55d9171",
   "metadata": {},
   "outputs": [],
   "source": [
    "import pandas as pd\n",
    "import matplotlib.pyplot as plt\n",
    "import numpy as np\n",
    "from datetime import datetime"
   ]
  },
  {
   "cell_type": "code",
   "execution_count": 68,
   "id": "164fc520-25ba-46aa-902d-ffe14b671668",
   "metadata": {},
   "outputs": [],
   "source": [
    "# Read json file of authors, date, and files touched\n",
    "json_file = pd.read_json('author_data.json')\n",
    "author_map = json_file.to_dict()\n",
    "\n",
    "# Read the total count of files\n",
    "total_files = pd.read_csv('data/file_rootbeer.csv')"
   ]
  },
  {
   "cell_type": "code",
   "execution_count": 69,
   "id": "f376927b-7cc7-4cfd-b1ef-d60dfe2625df",
   "metadata": {},
   "outputs": [],
   "source": [
    "# Gather unique files and map them to numbers\n",
    "unique_files = set()\n",
    "\n",
    "for contributor in author_map.values():\n",
    "    unique_files.update(contributor['files'])\n",
    "\n",
    "unique_files_list = sorted(unique_files)\n",
    "\n",
    "# Placing all unique files in a dataframe\n",
    "unique_files = pd.DataFrame(unique_files_list)\n",
    "\n",
    "file_to_id_map = {file: idx for idx, file in enumerate(unique_files_list, start=0)}\n",
    "\n",
    "unique_files_df = pd.DataFrame({\n",
    "    'File': unique_files_list,\n",
    "    'ID': [file_to_id_map[file] for file in unique_files_list]\n",
    "})"
   ]
  },
  {
   "cell_type": "code",
   "execution_count": 70,
   "id": "cbd0ec62-3b63-48da-88d4-de01acbae126",
   "metadata": {},
   "outputs": [],
   "source": [
    "date_strings = [entry['date'] for entry in author_map.values()]\n",
    "\n",
    "date_objects = sorted(set(datetime.strptime(date, \"%Y-%m-%dT%H:%M:%SZ\") for date in date_strings))\n",
    "\n",
    "earliest_date = min(date_objects)\n",
    "\n",
    "week_numbers = [(date - earliest_date).days // 7 for date in date_objects]\n",
    "\n",
    "date_to_week = {date.strftime(\"%Y-%m-%dT%H:%M:%SZ\"): week for date, week in zip(date_objects, week_numbers)}\n",
    "\n",
    "for author, details in author_map.items():\n",
    "    details['week_number'] = date_to_week[details['date']]"
   ]
  },
  {
   "cell_type": "code",
   "execution_count": null,
   "id": "eafd5522-557a-49a3-ae8b-eef2bed9fbe7",
   "metadata": {},
   "outputs": [],
   "source": []
  }
 ],
 "metadata": {
  "kernelspec": {
   "display_name": "Python 3 (ipykernel)",
   "language": "python",
   "name": "python3"
  },
  "language_info": {
   "codemirror_mode": {
    "name": "ipython",
    "version": 3
   },
   "file_extension": ".py",
   "mimetype": "text/x-python",
   "name": "python",
   "nbconvert_exporter": "python",
   "pygments_lexer": "ipython3",
   "version": "3.12.2"
  }
 },
 "nbformat": 4,
 "nbformat_minor": 5
}
